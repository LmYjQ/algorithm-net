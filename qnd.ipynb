{
 "cells": [
  {
   "cell_type": "markdown",
   "metadata": {},
   "source": [
    "### neo4j 取数据解析"
   ]
  },
  {
   "cell_type": "code",
   "execution_count": 5,
   "metadata": {},
   "outputs": [],
   "source": [
    "from flask import Flask, jsonify, render_template\n",
    "from py2neo import Graph\n",
    "\n",
    "#app = Flask(__name__)\n",
    "graph = Graph(\n",
    "     host = \"localhost\", # neo4j 搭载服务器的ip地址，ifconfig可获取到\n",
    "    http_port = 7474, # neo4j 服务器监听的端口号\n",
    "    user = \"neo4j\", # 数据库user name，如果没有更改过，应该是neo4j\n",
    "    password = \"qiyu\" # 自己设定的密码\n",
    ")\n",
    "\n",
    "def build_node(index,n):\n",
    "    d = dict(zip(n['n'].keys(),n['n'].values()))\n",
    "    d.update({\"id\":str(n['n'].identity)})\n",
    "    d.update({\"label\":str(n['n'].labels)[1:]})\n",
    "    return {\"data\": d}\n",
    "\n",
    "def build_edge(r):\n",
    "    d={\n",
    "    \"source\": r['r'].start_node.identity,\n",
    "    \"target\": r['r'].end_node.identity,\n",
    "    \"relationship\":list(r['r'].relationships[0].types())[0]}\n",
    "    return {\"data\":d}"
   ]
  },
  {
   "cell_type": "code",
   "execution_count": 7,
   "metadata": {},
   "outputs": [],
   "source": [
    "#@app.route('/')\n",
    "def index():\n",
    "    return render_template('index.html')\n",
    "\n",
    "#@app.route('/graph')\n",
    "def get_graph():\n",
    "    nodes = graph.run('MATCH (n) RETURN n').data()\n",
    "    edges = graph.run('MATCH ()-[r]->() RETURN r').data()\n",
    "\n",
    "    return jsonify(elements = {\"nodes\": [build_node(index,n) for index, n in enumerate(nodes)],\n",
    "                                 \"edges\": [build_edge(r) for r in edges]})"
   ]
  },
  {
   "cell_type": "code",
   "execution_count": 14,
   "metadata": {},
   "outputs": [
    {
     "data": {
      "text/plain": [
       "{'edges': [{'data': {'relationship': 'EXTEND_TO', 'source': 0, 'target': 1}}],\n",
       " 'nodes': [{'data': {'id': '0',\n",
       "    'label': 'Model',\n",
       "    'modelID': '1',\n",
       "    'modelLink': 'https://baike.baidu.com/item/logistic%E5%9B%9E%E5%BD%92/2981575?fromtitle=%E9%80%BB%E8%BE%91%E5%9B%9E%E5%BD%92&fromid=17202449&fr=aladdin',\n",
       "    'modelName': 'LR'}},\n",
       "  {'data': {'id': '1',\n",
       "    'label': 'Model',\n",
       "    'modelID': '2',\n",
       "    'modelLink': 'https://baike.baidu.com/item/LDA/13489644',\n",
       "    'modelName': 'LDA'}}]}"
      ]
     },
     "execution_count": 14,
     "metadata": {},
     "output_type": "execute_result"
    }
   ],
   "source": [
    "nodes = graph.run('MATCH (n) RETURN n').data()\n",
    "edges = graph.run('MATCH ()-[r]->() RETURN r').data()\n",
    "data = {\"nodes\": [build_node(index,n) for index, n in enumerate(nodes)],\n",
    "                                 \"edges\": [build_edge(r) for r in edges]}\n",
    "\n",
    "data"
   ]
  },
  {
   "cell_type": "code",
   "execution_count": 17,
   "metadata": {},
   "outputs": [
    {
     "data": {
      "text/plain": [
       "['0', '1']"
      ]
     },
     "execution_count": 17,
     "metadata": {},
     "output_type": "execute_result"
    }
   ],
   "source": [
    "node_indices = [e['data']['id'] for e in data['nodes']]\n",
    "node_indices"
   ]
  },
  {
   "cell_type": "code",
   "execution_count": 20,
   "metadata": {},
   "outputs": [],
   "source": [
    "edge_starts =  [e['data']['source'] for e in data['edges']]\n",
    "edge_end =  [e['data']['target'] for e in data['edges']]"
   ]
  },
  {
   "cell_type": "code",
   "execution_count": 33,
   "metadata": {},
   "outputs": [],
   "source": [
    "from bokeh.plotting import figure\n",
    "from bokeh.models import GraphRenderer,StaticLayoutProvider, Oval\n",
    "from bokeh.palettes import Spectral8\n"
   ]
  },
  {
   "cell_type": "code",
   "execution_count": 41,
   "metadata": {},
   "outputs": [],
   "source": [
    "graph = GraphRenderer()\n",
    "graph.node_renderer.data_source.add(node_indices, 'index')\n",
    "graph.node_renderer.data_source.add(Spectral8[:2], 'color')\n",
    "graph.node_renderer.glyph = Oval(height=0.1, width=0.1)\n",
    "graph.node_renderer.data_source.data = dict(\n",
    "    index=node_indices,\n",
    "    fill_color=Spectral8[:2])\n",
    "\n",
    "graph.edge_renderer.data_source.data = dict(\n",
    "    start=edge_starts,\n",
    "    end=edge_end)"
   ]
  },
  {
   "cell_type": "code",
   "execution_count": 42,
   "metadata": {},
   "outputs": [],
   "source": [
    "import math\n",
    "circ = [int(i)*2*math.pi/8 for i in node_indices]\n",
    "x = [math.cos(i) for i in circ]\n",
    "y = [math.sin(i) for i in circ]\n",
    "\n",
    "graph_layout = dict(zip(node_indices, zip(x, y)))\n",
    "graph.layout_provider = StaticLayoutProvider(graph_layout=graph_layout)\n",
    "\n",
    "\n",
    "plot = figure(title='Graph Layout Demonstration', x_range=(-1.1,1.1), y_range=(-1.1,1.1),\n",
    "              tools='', toolbar_location=None)\n",
    "plot.renderers.append(graph)\n",
    "\n",
    "output_file('graph.html')\n",
    "show(plot)"
   ]
  },
  {
   "cell_type": "code",
   "execution_count": 37,
   "metadata": {},
   "outputs": [
    {
     "data": {
      "text/plain": [
       "([0.0, 0.7853981633974483],\n",
       " [1.0, 0.7071067811865476],\n",
       " [0.0, 0.7071067811865475])"
      ]
     },
     "execution_count": 37,
     "metadata": {},
     "output_type": "execute_result"
    }
   ],
   "source": [
    "circ,x,y"
   ]
  },
  {
   "cell_type": "markdown",
   "metadata": {},
   "source": [
    "### 生成网页+链接"
   ]
  },
  {
   "cell_type": "code",
   "execution_count": 13,
   "metadata": {},
   "outputs": [],
   "source": [
    "from bokeh.models import ColumnDataSource, OpenURL, TapTool\n",
    "from bokeh.plotting import figure, output_file, show\n",
    "\n",
    "output_file(\"openurl.html\")\n",
    "\n",
    "p = figure(plot_width=400, plot_height=400,\n",
    "           tools=\"tap\", title=\"Click the Dots\")\n",
    "\n",
    "source = ColumnDataSource(data=dict(\n",
    "    x=[1, 2, 3, 4, 5],\n",
    "    y=[2, 5, 8, 2, 7],\n",
    "    color=[\"navy\", \"orange\", \"olive\", \"firebrick\", \"gold\"]\n",
    "    ))\n",
    "\n",
    "p.circle('x', 'y', color='color', size=20, source=source)\n",
    "\n",
    "url = \"http://www.colors.commutercreative.com/@color/\"\n",
    "taptool = p.select(type=TapTool)\n",
    "taptool.callback = OpenURL(url=url)\n",
    "\n",
    "show(p)"
   ]
  },
  {
   "cell_type": "code",
   "execution_count": null,
   "metadata": {},
   "outputs": [],
   "source": []
  }
 ],
 "metadata": {
  "kernelspec": {
   "display_name": "Python 3",
   "language": "python",
   "name": "python3"
  },
  "language_info": {
   "codemirror_mode": {
    "name": "ipython",
    "version": 3
   },
   "file_extension": ".py",
   "mimetype": "text/x-python",
   "name": "python",
   "nbconvert_exporter": "python",
   "pygments_lexer": "ipython3",
   "version": "3.6.4"
  }
 },
 "nbformat": 4,
 "nbformat_minor": 2
}
