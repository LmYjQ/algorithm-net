{
 "cells": [
  {
   "cell_type": "markdown",
   "metadata": {},
   "source": [
    "### neo4j 取数据解析"
   ]
  },
  {
   "cell_type": "code",
   "execution_count": 1,
   "metadata": {},
   "outputs": [],
   "source": [
    "from flask import Flask, jsonify, render_template\n",
    "from py2neo import Graph\n",
    "\n",
    "#app = Flask(__name__)\n",
    "graph = Graph(\n",
    "     host = \"localhost\", # neo4j 搭载服务器的ip地址，ifconfig可获取到\n",
    "    http_port = 7474, # neo4j 服务器监听的端口号\n",
    "    user = \"neo4j\", # 数据库user name，如果没有更改过，应该是neo4j\n",
    "    password = \"qiyu\" # 自己设定的密码\n",
    ")\n",
    "\n",
    "def build_node(index,n):\n",
    "    d = dict(zip(n['n'].keys(),n['n'].values()))\n",
    "    d.update({\"id\":str(n['n'].identity)})\n",
    "    d.update({\"label\":str(n['n'].labels)[1:]})\n",
    "    return {\"data\": d}\n",
    "\n",
    "def build_edge(r):\n",
    "    d={\n",
    "    \"source\": r['r'].start_node.identity,\n",
    "    \"target\": r['r'].end_node.identity,\n",
    "    \"relationship\":list(r['r'].relationships[0].types())[0]}\n",
    "    return {\"data\":d}"
   ]
  },
  {
   "cell_type": "code",
   "execution_count": 2,
   "metadata": {},
   "outputs": [],
   "source": [
    "#@app.route('/')\n",
    "def index():\n",
    "    return render_template('index.html')\n",
    "\n",
    "#@app.route('/graph')\n",
    "def get_graph():\n",
    "    nodes = graph.run('MATCH (n) RETURN n').data()\n",
    "    edges = graph.run('MATCH ()-[r]->() RETURN r').data()\n",
    "\n",
    "    return jsonify(elements = {\"nodes\": [build_node(index,n) for index, n in enumerate(nodes)],\n",
    "                                 \"edges\": [build_edge(r) for r in edges]})"
   ]
  },
  {
   "cell_type": "code",
   "execution_count": 3,
   "metadata": {},
   "outputs": [
    {
     "data": {
      "text/plain": [
       "{'edges': [],\n",
       " 'nodes': [{'data': {'Link': 'https://baike.baidu.com/item/Logistic%E6%A8%A1%E5%9E%8B/355091?fromtitle=Logistic%20regression&fromid=18080373&fr=aladdin',\n",
       "    'ModelDescription': 'Logistic Regression',\n",
       "    'ModelName': 'LR',\n",
       "    'ModelType': 'Linear',\n",
       "    'id': '0',\n",
       "    'label': 'Model'}},\n",
       "  {'data': {'Link': 'https://tech.meituan.com/deep_understanding_of_ffm_principles_and_practices.html',\n",
       "    'ModelDescription': 'Factorization Machine',\n",
       "    'ModelName': 'FM',\n",
       "    'ModelType': 'Nonlinear',\n",
       "    'id': '1',\n",
       "    'label': 'Model'}},\n",
       "  {'data': {'Link': 'https://baike.baidu.com/item/LDA/13489644',\n",
       "    'ModelDescription': 'Latent Dirichlet Allocation',\n",
       "    'ModelName': 'LDA',\n",
       "    'ModelType': 'Graphic',\n",
       "    'id': '2',\n",
       "    'label': 'Model'}},\n",
       "  {'data': {'Link': 'https://baike.baidu.com/item/Word2vec/22660840?fr=aladdin',\n",
       "    'ModelDescription': 'Word to Vector',\n",
       "    'ModelName': 'Word2Vec',\n",
       "    'ModelType': 'Neural',\n",
       "    'id': '3',\n",
       "    'label': 'Model'}},\n",
       "  {'data': {'Link': 'http://www.fanyeong.com/2018/02/19/glove-in-detail/',\n",
       "    'ModelDescription': 'GLobal Vectors for Word Represention',\n",
       "    'ModelName': 'Glove',\n",
       "    'ModelType': 'Matrix',\n",
       "    'id': '4',\n",
       "    'label': 'Model'}}]}"
      ]
     },
     "execution_count": 3,
     "metadata": {},
     "output_type": "execute_result"
    }
   ],
   "source": [
    "nodes = graph.run('MATCH (n) RETURN n').data()\n",
    "edges = graph.run('MATCH ()-[r]->() RETURN r').data()\n",
    "data = {\"nodes\": [build_node(index,n) for index, n in enumerate(nodes)],\n",
    "                                 \"edges\": [build_edge(r) for r in edges]}\n",
    "\n",
    "data"
   ]
  },
  {
   "cell_type": "code",
   "execution_count": 6,
   "metadata": {},
   "outputs": [
    {
     "data": {
      "text/plain": [
       "['0', '1', '2', '3', '4']"
      ]
     },
     "execution_count": 6,
     "metadata": {},
     "output_type": "execute_result"
    }
   ],
   "source": [
    "node_indices = [e['data']['id'] for e in data['nodes']]\n",
    "node_indices"
   ]
  },
  {
   "cell_type": "code",
   "execution_count": 7,
   "metadata": {},
   "outputs": [],
   "source": [
    "edge_starts =  [e['data']['source'] for e in data['edges']]\n",
    "edge_end =  [e['data']['target'] for e in data['edges']]"
   ]
  },
  {
   "cell_type": "markdown",
   "metadata": {},
   "source": [
    "### pyecharts<br>\n",
    "参考https://pyecharts.github.io/pyecharts.js-app/#https://raw.githubusercontent.com/pyecharts/pyecharts-app/master/app/charts/graph.py"
   ]
  },
  {
   "cell_type": "code",
   "execution_count": 18,
   "metadata": {},
   "outputs": [
    {
     "name": "stderr",
     "output_type": "stream",
     "text": [
      "ERROR:lml.utils:failed to import pyecharts_snapshot\n",
      "Traceback (most recent call last):\n",
      "  File \"/Users/a123/anaconda3/lib/python3.6/site-packages/lml/utils.py\", line 43, in do_import\n",
      "    plugin_module = __import__(plugin_module_name)\n",
      "ModuleNotFoundError: No module named 'pyecharts_snapshot'\n"
     ]
    }
   ],
   "source": [
    "from pyecharts import Graph, Page, Style"
   ]
  },
  {
   "cell_type": "code",
   "execution_count": 19,
   "metadata": {},
   "outputs": [],
   "source": [
    "def create_charts():\n",
    "    page = Page()\n",
    "\n",
    "    style = Style(\n",
    "        width=1100, height=600\n",
    "    )\n",
    "\n",
    "    nodes = [{\"name\": \"结点1\", \"symbolSize\": 10},\n",
    "             {\"name\": \"结点2\", \"symbolSize\": 20},\n",
    "             {\"name\": \"结点3\", \"symbolSize\": 30},\n",
    "             {\"name\": \"结点4\", \"symbolSize\": 40},\n",
    "             {\"name\": \"结点5\", \"symbolSize\": 50},\n",
    "             {\"name\": \"结点6\", \"symbolSize\": 40},\n",
    "             {\"name\": \"结点7\", \"symbolSize\": 30},\n",
    "             {\"name\": \"结点8\", \"symbolSize\": 20}]\n",
    "    links = []\n",
    "    for i in nodes:\n",
    "        for j in nodes:\n",
    "            links.append({\"source\": i.get('name'), \"target\": j.get('name')})\n",
    "    chart = Graph(\"关系图-力引导布局\", **style.init_style)\n",
    "    chart.add(\"\", nodes, links, graph_repulsion=8000, line_color='#aaa')\n",
    "    page.add(chart)\n",
    "\n",
    "#     chart = Graph(\"关系图-环形布局\", **style.init_style)\n",
    "#     chart.add(\"\", nodes, links, is_label_show=True, graph_repulsion=8000,\n",
    "#               graph_layout='circular', label_text_color=None)\n",
    "#     page.add(chart)\n",
    "\n",
    "#     nodes, links, categories, cont, mid, _ = WEIBO\n",
    "#     chart = Graph(\"关系图-微博转发\", **style.init_style)\n",
    "#     chart.add(\"\", nodes, links, categories, label_pos=\"right\", graph_repulsion=50,\n",
    "#               is_legend_show=False, line_curve=0.2, label_text_color=None)\n",
    "#     page.add(chart)\n",
    "\n",
    "    return page\n",
    "create_charts().render()"
   ]
  },
  {
   "cell_type": "markdown",
   "metadata": {},
   "source": [
    "### bokeh"
   ]
  },
  {
   "cell_type": "code",
   "execution_count": 12,
   "metadata": {},
   "outputs": [],
   "source": [
    "from bokeh.plotting import figure,output_file,show\n",
    "from bokeh.models import GraphRenderer,StaticLayoutProvider, Oval\n",
    "from bokeh.palettes import Spectral8"
   ]
  },
  {
   "cell_type": "code",
   "execution_count": 13,
   "metadata": {},
   "outputs": [
    {
     "name": "stderr",
     "output_type": "stream",
     "text": [
      "/Users/a123/anaconda3/lib/python3.6/site-packages/bokeh/models/sources.py:137: BokehUserWarning: ColumnDataSource's columns must be of the same length. Current lengths: ('color', 2), ('index', 5)\n",
      "  \"Current lengths: %s\" % \", \".join(sorted(str((k, len(v))) for k, v in data.items())), BokehUserWarning))\n",
      "/Users/a123/anaconda3/lib/python3.6/site-packages/bokeh/models/sources.py:137: BokehUserWarning: ColumnDataSource's columns must be of the same length. Current lengths: ('fill_color', 2), ('index', 5)\n",
      "  \"Current lengths: %s\" % \", \".join(sorted(str((k, len(v))) for k, v in data.items())), BokehUserWarning))\n"
     ]
    }
   ],
   "source": [
    "graph = GraphRenderer()\n",
    "graph.node_renderer.data_source.add(node_indices, 'index')\n",
    "graph.node_renderer.data_source.add(Spectral8[:2], 'color')\n",
    "graph.node_renderer.glyph = Oval(height=0.1, width=0.1)\n",
    "graph.node_renderer.data_source.data = dict(\n",
    "    index=node_indices,\n",
    "    fill_color=Spectral8[:2])\n",
    "\n",
    "graph.edge_renderer.data_source.data = dict(\n",
    "    start=edge_starts,\n",
    "    end=edge_end)"
   ]
  },
  {
   "cell_type": "code",
   "execution_count": 14,
   "metadata": {},
   "outputs": [],
   "source": [
    "import math\n",
    "circ = [int(i)*2*math.pi/8 for i in node_indices]\n",
    "x = [math.cos(i) for i in circ]\n",
    "y = [math.sin(i) for i in circ]\n",
    "\n",
    "graph_layout = dict(zip(node_indices, zip(x, y)))\n",
    "graph.layout_provider = StaticLayoutProvider(graph_layout=graph_layout)\n",
    "\n",
    "\n",
    "plot = figure(title='Graph Layout Demonstration', x_range=(-1.1,1.1), y_range=(-1.1,1.1),\n",
    "              tools='', toolbar_location=None)\n",
    "plot.renderers.append(graph)\n",
    "\n",
    "output_file('graph.html')\n",
    "show(plot)"
   ]
  },
  {
   "cell_type": "code",
   "execution_count": 37,
   "metadata": {},
   "outputs": [
    {
     "data": {
      "text/plain": [
       "([0.0, 0.7853981633974483],\n",
       " [1.0, 0.7071067811865476],\n",
       " [0.0, 0.7071067811865475])"
      ]
     },
     "execution_count": 37,
     "metadata": {},
     "output_type": "execute_result"
    }
   ],
   "source": [
    "circ,x,y"
   ]
  },
  {
   "cell_type": "markdown",
   "metadata": {},
   "source": [
    "### 生成网页+链接"
   ]
  },
  {
   "cell_type": "code",
   "execution_count": 13,
   "metadata": {},
   "outputs": [],
   "source": [
    "from bokeh.models import ColumnDataSource, OpenURL, TapTool\n",
    "from bokeh.plotting import figure, output_file, show\n",
    "\n",
    "output_file(\"openurl.html\")\n",
    "\n",
    "p = figure(plot_width=400, plot_height=400,\n",
    "           tools=\"tap\", title=\"Click the Dots\")\n",
    "\n",
    "source = ColumnDataSource(data=dict(\n",
    "    x=[1, 2, 3, 4, 5],\n",
    "    y=[2, 5, 8, 2, 7],\n",
    "    color=[\"navy\", \"orange\", \"olive\", \"firebrick\", \"gold\"]\n",
    "    ))\n",
    "\n",
    "p.circle('x', 'y', color='color', size=20, source=source)\n",
    "\n",
    "url = \"http://www.colors.commutercreative.com/@color/\"\n",
    "taptool = p.select(type=TapTool)\n",
    "taptool.callback = OpenURL(url=url)\n",
    "\n",
    "show(p)"
   ]
  },
  {
   "cell_type": "code",
   "execution_count": null,
   "metadata": {},
   "outputs": [],
   "source": []
  }
 ],
 "metadata": {
  "kernelspec": {
   "display_name": "Python 3",
   "language": "python",
   "name": "python3"
  },
  "language_info": {
   "codemirror_mode": {
    "name": "ipython",
    "version": 3
   },
   "file_extension": ".py",
   "mimetype": "text/x-python",
   "name": "python",
   "nbconvert_exporter": "python",
   "pygments_lexer": "ipython3",
   "version": "3.6.4"
  }
 },
 "nbformat": 4,
 "nbformat_minor": 2
}
